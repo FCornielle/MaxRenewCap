{
 "cells": [
  {
   "cell_type": "code",
   "execution_count": 1,
   "metadata": {},
   "outputs": [
    {
     "name": "stdout",
     "output_type": "stream",
     "text": [
      "PowerFactory environment initialized with path: C:\\Program Files\\DIgSILENT\\PowerFactory 2021 SP2\\Python\\3.9\n"
     ]
    }
   ],
   "source": [
    "import os\n",
    "import sys\n",
    "from max_contingency_analysis_functions import *\n",
    "import pandas as pd\n",
    "import math\n",
    "import matplotlib.pyplot as plt\n",
    "# Añadir la ruta del entorno de PowerFactory\n",
    "dig_path = r'C:\\Program Files\\DIgSILENT\\PowerFactory 2021 SP2\\Python\\3.9'\n",
    "pf_enviroment(dig_path)\n",
    "import powerfactory as pf"
   ]
  },
  {
   "cell_type": "code",
   "execution_count": 3,
   "metadata": {},
   "outputs": [
    {
     "name": "stdout",
     "output_type": "stream",
     "text": [
      "Proyecto '39 Bus New England System' activado con éxito.\n"
     ]
    }
   ],
   "source": [
    "app = pf.GetApplication()\n",
    "# Nombre del proyecto a activar\n",
    "project_name = \"39 Bus New England System\"\n",
    "project = activate_project(app, project_name)"
   ]
  },
  {
   "cell_type": "code",
   "execution_count": 4,
   "metadata": {},
   "outputs": [
    {
     "name": "stdout",
     "output_type": "stream",
     "text": [
      "List of study cases:\n",
      "1. Power Flow\n",
      "2.1 Simulation Fault Bus 16 Stable\n",
      "2.2 Simulation Fault Bus 16 Unstable\n",
      "2.3 Simulation Fault Bus 31 Stable\n",
      "2.4 Simulation Fault Bus 31 Unstable\n",
      "2.5 Simulation Fault Line 2-3 Stable\n",
      "2.6 Simulation Fault Line 2-3 Unstable\n",
      "3. Small Signal Analysis (Eigenvalues)\n",
      "4. EMT Simulation Fault Bus 03\n",
      "Study case '1. Power Flow' activated.\n"
     ]
    }
   ],
   "source": [
    "study_case_name = \"1. Power Flow\"  # Replace with your specific case name\n",
    "active_study_case = list_and_select_study_case(app, study_case_name)"
   ]
  },
  {
   "cell_type": "code",
   "execution_count": null,
   "metadata": {},
   "outputs": [],
   "source": [
    "# Activate the desired operation scenario\n",
    "# operation_scenario_name = \"Operation Scenario blank space\"\n",
    "# active_scenario = list_and_activate_operation_scenario(app, operation_scenario_name)"
   ]
  },
  {
   "cell_type": "code",
   "execution_count": null,
   "metadata": {},
   "outputs": [],
   "source": [
    "print(\"Iniciando optimización de generadores en las subestaciones.\")"
   ]
  },
  {
   "cell_type": "code",
   "execution_count": 5,
   "metadata": {},
   "outputs": [],
   "source": [
    "substations = [\n",
    "    'Bus 01', 'Bus 02', 'Bus 03', 'Bus 04', 'Bus 05', 'Bus 06', 'Bus 07', 'Bus 08', 'Bus 09',\n",
    "    'Bus 10', 'Bus 11', 'Bus 12', 'Bus 13', 'Bus 14', 'Bus 15', 'Bus 16','Bus 17', 'Bus 18', 'Bus 19', 'Bus 20', 'Bus 21',\n",
    "    'Bus 22', 'Bus 23', 'Bus 24', 'Bus 25', 'Bus 26', 'Bus 27', 'Bus 28', 'Bus 29', 'Bus 30', 'Bus 31',\n",
    "    'Bus 32', 'Bus 33', 'Bus 34', 'Bus 35', 'Bus 36', 'Bus 37', 'Bus 38', 'Bus 39'\n",
    "]"
   ]
  },
  {
   "cell_type": "code",
   "execution_count": null,
   "metadata": {},
   "outputs": [],
   "source": []
  }
 ],
 "metadata": {
  "kernelspec": {
   "display_name": "my_env",
   "language": "python",
   "name": "python3"
  },
  "language_info": {
   "codemirror_mode": {
    "name": "ipython",
    "version": 3
   },
   "file_extension": ".py",
   "mimetype": "text/x-python",
   "name": "python",
   "nbconvert_exporter": "python",
   "pygments_lexer": "ipython3",
   "version": "3.9.0"
  }
 },
 "nbformat": 4,
 "nbformat_minor": 2
}
